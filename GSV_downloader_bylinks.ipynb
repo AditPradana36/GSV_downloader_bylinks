{
  "nbformat": 4,
  "nbformat_minor": 0,
  "metadata": {
    "colab": {
      "provenance": [],
      "collapsed_sections": [
        "sgdIYQzWqkyS",
        "Y5-pd43krBNU",
        "t9LlXUDprENs"
      ],
      "authorship_tag": "ABX9TyOp2vgGsFSKQG/W4f/KxDhz",
      "include_colab_link": true
    },
    "kernelspec": {
      "name": "python3",
      "display_name": "Python 3"
    },
    "language_info": {
      "name": "python"
    }
  },
  "cells": [
    {
      "cell_type": "markdown",
      "metadata": {
        "id": "view-in-github",
        "colab_type": "text"
      },
      "source": [
        "<a href=\"https://colab.research.google.com/github/AditPradana36/GSV_downloader_bylinks/blob/main/GSV_downloader_bylinks.ipynb\" target=\"_parent\"><img src=\"https://colab.research.google.com/assets/colab-badge.svg\" alt=\"Open In Colab\"/></a>"
      ]
    },
    {
      "cell_type": "markdown",
      "source": [
        "# 🗺️ Google Street View Downloader by A List of Links\n",
        "\n",
        "This notebook lets you download **Google Street View images** from a list of URLs stored in an Excel file.  \n",
        "It supports:\n",
        "- 📌 **Heading slices** (download from multiple heading ranges)\n",
        "- 🌐 **Panorama stitch** (combine into a single wide image)\n",
        "- 📝 **Metadata export** (including capture date: year & month)"
      ],
      "metadata": {
        "id": "2YhfzL54qcZ2"
      }
    },
    {
      "cell_type": "markdown",
      "source": [
        "## ⚙️ How to Use This Notebook\n",
        "\n",
        "### 1. 🔑 Get Your API Key\n",
        "1. Go to the [Google Cloud Console](https://console.cloud.google.com/).\n",
        "2. Create a project and enable:\n",
        "   - **Street View Static API**\n",
        "   - **Street View Image API**\n",
        "3. Generate an **API Key** and paste it in the `api_key` field below.\n",
        "\n",
        "⚠️ **Important:** Ensure billing is enabled, otherwise the API may block your requests."
      ],
      "metadata": {
        "id": "GDrrbLXcqgZH"
      }
    },
    {
      "cell_type": "markdown",
      "source": [
        "### 2. 📂 Prepare Your Excel File\n",
        "- Make an Excel file (e.g., `trylink.xlsx`) with at least **two columns**:\n",
        "  - `id` → unique identifier (e.g., `1, 2, 3`)\n",
        "  - `link` → Street View URL (copied from Google Maps)\n",
        "\n",
        "\n",
        "Upload the file into Colab (default path: `/content/YOUR_FILE.xlsx`).\n",
        "\n",
        "\n"
      ],
      "metadata": {
        "id": "sgdIYQzWqkyS"
      }
    },
    {
      "cell_type": "code",
      "source": [
        "# ============================================\n",
        "# 🛠 Install dependencies\n",
        "# ============================================\n",
        "!pip install requests pillow openpyxl\n",
        "\n",
        "import os\n",
        "import re\n",
        "import csv\n",
        "import datetime\n",
        "import requests\n",
        "from io import BytesIO\n",
        "from PIL import Image\n",
        "from google.colab import files\n",
        "import pandas as pd"
      ],
      "metadata": {
        "colab": {
          "base_uri": "https://localhost:8080/"
        },
        "id": "SeEczwLUnMwN",
        "outputId": "ff310cc8-97ee-425d-e8f0-c7b35dafd096"
      },
      "execution_count": null,
      "outputs": [
        {
          "output_type": "stream",
          "name": "stdout",
          "text": [
            "Requirement already satisfied: requests in /usr/local/lib/python3.12/dist-packages (2.32.4)\n",
            "Requirement already satisfied: pillow in /usr/local/lib/python3.12/dist-packages (11.3.0)\n",
            "Requirement already satisfied: openpyxl in /usr/local/lib/python3.12/dist-packages (3.1.5)\n",
            "Requirement already satisfied: charset_normalizer<4,>=2 in /usr/local/lib/python3.12/dist-packages (from requests) (3.4.3)\n",
            "Requirement already satisfied: idna<4,>=2.5 in /usr/local/lib/python3.12/dist-packages (from requests) (3.10)\n",
            "Requirement already satisfied: urllib3<3,>=1.21.1 in /usr/local/lib/python3.12/dist-packages (from requests) (2.5.0)\n",
            "Requirement already satisfied: certifi>=2017.4.17 in /usr/local/lib/python3.12/dist-packages (from requests) (2025.8.3)\n",
            "Requirement already satisfied: et-xmlfile in /usr/local/lib/python3.12/dist-packages (from openpyxl) (2.0.0)\n"
          ]
        }
      ]
    },
    {
      "cell_type": "markdown",
      "source": [
        "### 3. ⚙️ Set Parameters\n",
        "- `api_key`: Your Google API Key.\n",
        "- `xlsx_path`: Path to your Excel file with links.\n",
        "- `output_folder`: Where to save the downloaded images.\n",
        "- `download_mode`: Choose between:\n",
        "  - `\"headings\"` → download slices per heading range.\n",
        "  - `\"panorama\"` → download and stitch into one panorama.\n",
        "  - `\"both\"` → do both.\n",
        "- `heading_ranges`: Define ranges for headings (default = 0–360 split into 4 parts).\n",
        "- `image_size`: Output image size (e.g., `640x640`).\n",
        "- `fov`: Field of View (recommended: `90`).\n",
        "- `pitch`: Camera tilt angle (default: `0`).\n",
        "- `metadata_output`: Where to save the CSV file with metadata."
      ],
      "metadata": {
        "id": "Oeg8LRzVq9-j"
      }
    },
    {
      "cell_type": "code",
      "source": [
        "# ============================================\n",
        "# 📌 Parameters - Edit these using Colab form\n",
        "# ============================================\n",
        "api_key = \"YOUR_API_KEY\"   # @param {type:\"string\"}\n",
        "xlsx_path = \"/content/YOUR_FILE.xlsx\"  # @param {type:\"string\"}\n",
        "output_folder = \"/content\"  # @param {type:\"string\"}\n",
        "\n",
        "download_mode = \"panorama\"   # @param [\"headings\", \"panorama\", \"both\"]\n",
        "\n",
        "# If using heading slices, define ranges here\n",
        "heading_ranges = [(0,90), (90,180), (180,270), (270,360)]  # @param\n",
        "\n",
        "image_size = \"640x640\"    # @param {type:\"string\"}\n",
        "fov = 90                  # @param {type:\"integer\"}\n",
        "pitch = 0                 # @param {type:\"integer\"}\n",
        "metadata_output = \"/content/metadata_from_links.csv\"  # @param {type:\"string\"}"
      ],
      "metadata": {
        "cellView": "form",
        "id": "EDtHVjP7ouhe"
      },
      "execution_count": null,
      "outputs": []
    },
    {
      "cell_type": "markdown",
      "source": [
        "### 4. ▶️ Run the Notebook\n",
        "- Run **each cell in order**.\n",
        "- Images will be saved inside your chosen `output_folder`.\n",
        "- A metadata CSV will be generated with:\n",
        "  - `image_id`\n",
        "  - `filename`\n",
        "  - `pano_id`\n",
        "  - `heading_range`\n",
        "  - `capture_year`\n",
        "  - `capture_month`\n",
        "  - `status`\n",
        "  - `download_timestamp`"
      ],
      "metadata": {
        "id": "Y5-pd43krBNU"
      }
    },
    {
      "cell_type": "code",
      "source": [
        "# ============================================\n",
        "# 📦 Helper Functions\n",
        "# ============================================\n",
        "def extract_panoid_from_url(url):\n",
        "    \"\"\"Extract pano_id from Google Maps Street View URL\"\"\"\n",
        "    match = re.search(r\"!1s([a-zA-Z0-9_\\-]+)!2e0\", url)\n",
        "    if match:\n",
        "        return match.group(1)\n",
        "    return None\n",
        "\n",
        "def get_metadata_from_panoid(panoid):\n",
        "    \"\"\"Query Street View Metadata API for capture date (year, month), lat, lon\"\"\"\n",
        "    base_url = \"https://maps.googleapis.com/maps/api/streetview/metadata\"\n",
        "    params = {\n",
        "        \"pano\": panoid,\n",
        "        \"key\": api_key\n",
        "    }\n",
        "    r = requests.get(base_url, params=params)\n",
        "    if r.status_code == 200:\n",
        "        data = r.json()\n",
        "        year, month = None, None\n",
        "        lat, lon = None, None\n",
        "\n",
        "        if \"date\" in data:\n",
        "            try:\n",
        "                year, month = data[\"date\"].split(\"-\")\n",
        "                year, month = int(year), int(month)\n",
        "            except:\n",
        "                year, month = None, None\n",
        "\n",
        "        if \"location\" in data:\n",
        "            lat = data[\"location\"].get(\"lat\")\n",
        "            lon = data[\"location\"].get(\"lng\")\n",
        "\n",
        "        return year, month, lat, lon\n",
        "\n",
        "    return None, None, None, None\n",
        "\n",
        "\n",
        "def download_streetview_from_panoid(panoid, output_folder=\".\", image_id=\"image\",\n",
        "                                    mode=\"headings\", heading_ranges=None):\n",
        "    if not os.path.exists(output_folder):\n",
        "        os.makedirs(output_folder)\n",
        "\n",
        "    base_url = \"https://maps.googleapis.com/maps/api/streetview\"\n",
        "    filenames = []\n",
        "\n",
        "    # ---- Case 1: Individual headings ----\n",
        "    if mode in [\"headings\", \"both\"]:\n",
        "        for start, end in heading_ranges:\n",
        "            heading = (start + end) // 2   # midpoint of range\n",
        "            params = {\n",
        "                'size': image_size,\n",
        "                'fov': fov,\n",
        "                'pitch': pitch,\n",
        "                'key': api_key,\n",
        "                'pano': panoid,\n",
        "                'heading': heading\n",
        "            }\n",
        "            response = requests.get(base_url, params=params)\n",
        "            if response.status_code != 200:\n",
        "                print(f\"❌ Failed at heading {heading} for panoid={panoid} | {response.text}\")\n",
        "                continue\n",
        "            filename = f\"id_{image_id}_{start}-{end}.jpg\"\n",
        "            filepath = os.path.join(output_folder, filename)\n",
        "            with open(filepath, 'wb') as f:\n",
        "                f.write(response.content)\n",
        "            filenames.append((filename, f\"{start}-{end}\"))\n",
        "\n",
        "    # ---- Case 2: Panorama (stitched) ----\n",
        "    if mode in [\"panorama\", \"both\"]:\n",
        "        imgs = []\n",
        "        for start, end in heading_ranges:\n",
        "            heading = (start + end) // 2\n",
        "            params = {\n",
        "                'size': image_size,\n",
        "                'fov': fov,\n",
        "                'pitch': pitch,\n",
        "                'key': api_key,\n",
        "                'pano': panoid,\n",
        "                'heading': heading\n",
        "            }\n",
        "            response = requests.get(base_url, params=params)\n",
        "            if response.status_code != 200:\n",
        "                print(f\"❌ Failed at heading {heading} for panoid={panoid} | {response.text}\")\n",
        "                continue\n",
        "            imgs.append(Image.open(BytesIO(response.content)))\n",
        "\n",
        "        if imgs:\n",
        "            total_width = sum(img.width for img in imgs)\n",
        "            max_height = max(img.height for img in imgs)\n",
        "            panorama_img = Image.new(\"RGB\", (total_width, max_height))\n",
        "            x_offset = 0\n",
        "            for img in imgs:\n",
        "                panorama_img.paste(img, (x_offset, 0))\n",
        "                x_offset += img.width\n",
        "\n",
        "            filename = f\"id_{image_id}_panorama.jpg\"\n",
        "            filepath = os.path.join(output_folder, filename)\n",
        "            panorama_img.save(filepath)\n",
        "            filenames.append((filename, \"stitched\"))\n",
        "\n",
        "    return filenames if filenames else None"
      ],
      "metadata": {
        "id": "bLetn7yrvZl3"
      },
      "execution_count": null,
      "outputs": []
    },
    {
      "cell_type": "markdown",
      "source": [
        "### 5. 📤 Download Results\n",
        "- Images: check inside the `output_folder`.\n",
        "- Metadata CSV: auto-downloaded at the end."
      ],
      "metadata": {
        "id": "t9LlXUDprENs"
      }
    },
    {
      "cell_type": "code",
      "source": [
        "# ============================================\n",
        "# 🔁 Process All Rows in Excel\n",
        "# ============================================\n",
        "os.makedirs(output_folder, exist_ok=True)\n",
        "\n",
        "with open(metadata_output, 'w', newline='') as meta_file:\n",
        "    fieldnames = ['image_id', 'filename', 'pano_id', 'heading_range',\n",
        "                  'capture_year', 'capture_month', 'latitude', 'longitude',\n",
        "                  'status', 'download_timestamp']\n",
        "    writer = csv.DictWriter(meta_file, fieldnames=fieldnames)\n",
        "    writer.writeheader()\n",
        "\n",
        "    df = pd.read_excel(xlsx_path)\n",
        "\n",
        "    for idx, row in df.iterrows():\n",
        "        image_id = str(row['id'])\n",
        "        link = row['link']\n",
        "\n",
        "        panoid = extract_panoid_from_url(link)\n",
        "        if not panoid:\n",
        "            print(f\"❌ Could not extract panoid for ID {image_id}\")\n",
        "            continue\n",
        "\n",
        "        # Get capture date (year, month) and lat/lon\n",
        "        capture_year, capture_month, lat, lon = get_metadata_from_panoid(panoid)\n",
        "\n",
        "        results = download_streetview_from_panoid(\n",
        "            panoid,\n",
        "            output_folder=output_folder,\n",
        "            image_id=image_id,\n",
        "            mode=download_mode,\n",
        "            heading_ranges=heading_ranges\n",
        "        )\n",
        "        if not results:\n",
        "            continue\n",
        "\n",
        "        for fn, hr in results:\n",
        "            writer.writerow({\n",
        "                'image_id': image_id,\n",
        "                'filename': fn,\n",
        "                'pano_id': panoid,\n",
        "                'heading_range': hr,\n",
        "                'capture_year': capture_year,\n",
        "                'capture_month': capture_month,\n",
        "                'latitude': lat,\n",
        "                'longitude': lon,\n",
        "                'status': \"OK\",\n",
        "                'download_timestamp': datetime.datetime.now().isoformat()\n",
        "            })\n",
        "\n",
        "print(f\"✅ All images downloaded to `{output_folder}`\")\n",
        "print(f\"📄 Metadata saved to `{metadata_output}`\")"
      ],
      "metadata": {
        "colab": {
          "base_uri": "https://localhost:8080/"
        },
        "id": "WuwQTuEpwkb_",
        "outputId": "81ae1fb7-e89a-4192-b230-64897456d988"
      },
      "execution_count": null,
      "outputs": [
        {
          "output_type": "stream",
          "name": "stdout",
          "text": [
            "✅ All images downloaded to `/content`\n",
            "📄 Metadata saved to `/content/metadata_from_links.csv`\n"
          ]
        }
      ]
    }
  ]
}